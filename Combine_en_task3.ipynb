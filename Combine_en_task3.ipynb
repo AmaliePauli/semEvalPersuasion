{
 "cells": [
  {
   "cell_type": "code",
   "execution_count": 4,
   "id": "a35c9cb1",
   "metadata": {},
   "outputs": [],
   "source": [
    "import pandas as pd\n",
    "import numpy as np\n",
    "from data import TASK3_LABELS"
   ]
  },
  {
   "cell_type": "code",
   "execution_count": 5,
   "id": "bd3d814c",
   "metadata": {},
   "outputs": [
    {
     "data": {
      "text/plain": [
       "['Appeal_to_Authority',\n",
       " 'Appeal_to_Fear-Prejudice',\n",
       " 'Appeal_to_Hypocrisy',\n",
       " 'Appeal_to_Popularity',\n",
       " 'Appeal_to_Time',\n",
       " 'Appeal_to_Values',\n",
       " 'Causal_Oversimplification',\n",
       " 'Consequential_Oversimplification',\n",
       " 'Conversation_Killer',\n",
       " 'Doubt',\n",
       " 'Exaggeration-Minimisation',\n",
       " 'False_Dilemma-No_Choice',\n",
       " 'Flag_Waving',\n",
       " 'Guilt_by_Association',\n",
       " 'Loaded_Language',\n",
       " 'Name_Calling-Labeling',\n",
       " 'Obfuscation-Vagueness-Confusion',\n",
       " 'Questioning_the_Reputation',\n",
       " 'Red_Herring',\n",
       " 'Repetition',\n",
       " 'Slogans',\n",
       " 'Straw_Man',\n",
       " 'Whataboutism']"
      ]
     },
     "execution_count": 5,
     "metadata": {},
     "output_type": "execute_result"
    }
   ],
   "source": [
    "TASK3_LABELS"
   ]
  },
  {
   "cell_type": "code",
   "execution_count": 6,
   "id": "2f3a399c",
   "metadata": {},
   "outputs": [],
   "source": [
    "def to_matrix(df3):    \n",
    "    df3 = df3.where(pd.notnull(df3), '')\n",
    "    labels_matrix = np.zeros((df3.shape[0], len(TASK3_LABELS)),int)\n",
    "    \n",
    "    for idx, label in enumerate(TASK3_LABELS):\n",
    "        labels_matrix[:, idx] = df3.labels.apply(lambda x: 1 if label in x else 0)\n",
    "    return labels_matrix"
   ]
  },
  {
   "cell_type": "code",
   "execution_count": null,
   "id": "7d962cc7",
   "metadata": {},
   "outputs": [],
   "source": [
    "id_fews = [2,3,4,5,7,8,11,13,16,17,18,21,22]\n",
    "id2label = {idx:label for idx, label in enumerate(TASK3_LABELS)}\n",
    "np.array(TASK3_LABELS)[id_fews]"
   ]
  },
  {
   "cell_type": "code",
   "execution_count": null,
   "id": "555c0b75",
   "metadata": {},
   "outputs": [],
   "source": [
    "df_mul = pd.read_csv('Newpred_en1.txt', sep='\\t', header=None, names=['id','line','labels'])\n",
    "#df_anchor = pd.read_csv('anchor_small_task3_en.txt', sep='\\t', header=None, names=['id','line','labels']) #majority_pred_en.csv\n",
    "df_rob = pd.read_csv('Newpred_en_rob.txt', sep='\\t', header=None, names=['id','line','labels'])\n",
    "#df_anchor_s = pd.read_csv('majority_pred_en.csv', sep='\\t', header=None, names=['id','line','labels'])\n",
    "matrix_mul1 = to_matrix(df_mul)\n",
    "matrix_rob1 = to_matrix(df_rob)"
   ]
  },
  {
   "cell_type": "code",
   "execution_count": null,
   "id": "96505587",
   "metadata": {},
   "outputs": [],
   "source": [
    "sum(matrix_mul1)"
   ]
  },
  {
   "cell_type": "code",
   "execution_count": null,
   "id": "7caa0da8",
   "metadata": {},
   "outputs": [],
   "source": [
    "sum(matrix_rob1)"
   ]
  },
  {
   "cell_type": "code",
   "execution_count": null,
   "id": "9f734a8f",
   "metadata": {},
   "outputs": [],
   "source": [
    "sum(matrix_rob1>0)[id_fews]"
   ]
  },
  {
   "cell_type": "code",
   "execution_count": null,
   "id": "a4283531",
   "metadata": {},
   "outputs": [],
   "source": [
    "sum(matrix_mul1>0)[id_fews]"
   ]
  },
  {
   "cell_type": "code",
   "execution_count": null,
   "id": "53675ce2",
   "metadata": {},
   "outputs": [],
   "source": [
    "matrix_com = np.zeros((df_rob.shape[0], len(TASK3_LABELS)),int)\n",
    "for idx in range(0,23):\n",
    "    for j in range(0,matrix_com.shape[0]):\n",
    "        if idx in id_fews:\n",
    "            matrix_com[j,idx] = matrix_mul1[j,idx]\n",
    "        else:\n",
    "            matrix_com[j,idx] = matrix_rob1[j,idx]"
   ]
  },
  {
   "cell_type": "code",
   "execution_count": null,
   "id": "6c4972fe",
   "metadata": {},
   "outputs": [],
   "source": [
    "sum(matrix_com == matrix_rob1)"
   ]
  },
  {
   "cell_type": "code",
   "execution_count": null,
   "id": "86fc2540",
   "metadata": {},
   "outputs": [],
   "source": [
    "sum(matrix_com == matrix_mul1)"
   ]
  },
  {
   "cell_type": "code",
   "execution_count": null,
   "id": "6eb34dd4",
   "metadata": {},
   "outputs": [],
   "source": [
    "pred_com=pd.Series(list(matrix_com))\n",
    "series_labels=pred_com.apply(lambda x: [id2label[i] for i in np.where(x==1)[0]])\n",
    "df_rob['labels_pred']=series_labels.apply(lambda x: ','.join(x))\n",
    "output_pred_file= 'Newcombine_std_xlm.txt'\n",
    "        \n",
    "df_rob[['id','line','labels_pred']].to_csv(output_pred_file, sep='\\t', header=None, index=None)"
   ]
  },
  {
   "cell_type": "code",
   "execution_count": null,
   "id": "a4b42670",
   "metadata": {},
   "outputs": [],
   "source": []
  },
  {
   "cell_type": "code",
   "execution_count": null,
   "id": "8bf3f35d",
   "metadata": {},
   "outputs": [],
   "source": []
  },
  {
   "cell_type": "code",
   "execution_count": null,
   "id": "1d86b43c",
   "metadata": {},
   "outputs": [],
   "source": [
    "# tjek the new\n",
    "df_com = pd.read_csv(output_pred_file, sep='\\t', header=None, names=['id','line','labels'])\n",
    "matrix_com1 = to_matrix(df_com)\n",
    "sum(matrix_com1)"
   ]
  }
 ],
 "metadata": {
  "kernelspec": {
   "display_name": "Python 3 (ipykernel)",
   "language": "python",
   "name": "python3"
  },
  "language_info": {
   "codemirror_mode": {
    "name": "ipython",
    "version": 3
   },
   "file_extension": ".py",
   "mimetype": "text/x-python",
   "name": "python",
   "nbconvert_exporter": "python",
   "pygments_lexer": "ipython3",
   "version": "3.8.13"
  }
 },
 "nbformat": 4,
 "nbformat_minor": 5
}
