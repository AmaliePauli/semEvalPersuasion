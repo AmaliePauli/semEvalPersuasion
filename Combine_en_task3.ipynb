{
 "cells": [
  {
   "cell_type": "code",
   "execution_count": 17,
   "id": "abab6f97",
   "metadata": {},
   "outputs": [],
   "source": [
    "import pandas as pd\n",
    "import numpy as np\n",
    "from data import TASK3_LABELS"
   ]
  },
  {
   "cell_type": "code",
   "execution_count": 18,
   "id": "4d34e46a",
   "metadata": {},
   "outputs": [
    {
     "data": {
      "text/plain": [
       "['Appeal_to_Authority',\n",
       " 'Appeal_to_Fear-Prejudice',\n",
       " 'Appeal_to_Hypocrisy',\n",
       " 'Appeal_to_Popularity',\n",
       " 'Appeal_to_Time',\n",
       " 'Appeal_to_Values',\n",
       " 'Causal_Oversimplification',\n",
       " 'Consequential_Oversimplification',\n",
       " 'Conversation_Killer',\n",
       " 'Doubt',\n",
       " 'Exaggeration-Minimisation',\n",
       " 'False_Dilemma-No_Choice',\n",
       " 'Flag_Waving',\n",
       " 'Guilt_by_Association',\n",
       " 'Loaded_Language',\n",
       " 'Name_Calling-Labeling',\n",
       " 'Obfuscation-Vagueness-Confusion',\n",
       " 'Questioning_the_Reputation',\n",
       " 'Red_Herring',\n",
       " 'Repetition',\n",
       " 'Slogans',\n",
       " 'Straw_Man',\n",
       " 'Whataboutism']"
      ]
     },
     "execution_count": 18,
     "metadata": {},
     "output_type": "execute_result"
    }
   ],
   "source": [
    "TASK3_LABELS"
   ]
  },
  {
   "cell_type": "code",
   "execution_count": 19,
   "id": "8c58268b",
   "metadata": {},
   "outputs": [],
   "source": [
    "def to_matrix(df3):    \n",
    "    df3 = df3.where(pd.notnull(df3), '')\n",
    "    labels_matrix = np.zeros((df3.shape[0], len(TASK3_LABELS)),int)\n",
    "    \n",
    "    for idx, label in enumerate(TASK3_LABELS):\n",
    "        labels_matrix[:, idx] = df3.labels.apply(lambda x: 1 if label in x else 0)\n",
    "    return labels_matrix"
   ]
  },
  {
   "cell_type": "code",
   "execution_count": 37,
   "id": "97dedffb",
   "metadata": {},
   "outputs": [
    {
     "data": {
      "text/plain": [
       "array(['Appeal_to_Hypocrisy', 'Appeal_to_Popularity', 'Appeal_to_Time',\n",
       "       'Appeal_to_Values', 'Consequential_Oversimplification',\n",
       "       'Conversation_Killer', 'Guilt_by_Association',\n",
       "       'Obfuscation-Vagueness-Confusion', 'Questioning_the_Reputation',\n",
       "       'Red_Herring', 'Straw_Man', 'Whataboutism'], dtype='<U32')"
      ]
     },
     "execution_count": 37,
     "metadata": {},
     "output_type": "execute_result"
    }
   ],
   "source": [
    "# removed false dillema training sze with dev is 185, under 150:\n",
    "id_fews = [2,3,4,5,7,8,13,16,17,18,21,22]\n",
    "id2label = {idx:label for idx, label in enumerate(TASK3_LABELS)}\n",
    "np.array(TASK3_LABELS)[id_fews]"
   ]
  },
  {
   "cell_type": "code",
   "execution_count": 38,
   "id": "8db3988d",
   "metadata": {},
   "outputs": [],
   "source": [
    "df_mul = pd.read_csv('Test_task3_en_xlm.txt', sep='\\t', header=None, names=['id','line','labels'])\n",
    "#df_anchor = pd.read_csv('anchor_small_task3_en.txt', sep='\\t', header=None, names=['id','line','labels']) #majority_pred_en.csv\n",
    "df_rob = pd.read_csv('Test_task3_en_rob.txt', sep='\\t', header=None, names=['id','line','labels'])\n",
    "#df_anchor_s = pd.read_csv('majority_pred_en.csv', sep='\\t', header=None, names=['id','line','labels'])\n",
    "matrix_mul1 = to_matrix(df_mul)\n",
    "matrix_rob1 = to_matrix(df_rob)"
   ]
  },
  {
   "cell_type": "code",
   "execution_count": 39,
   "id": "cc31c865",
   "metadata": {},
   "outputs": [
    {
     "data": {
      "text/plain": [
       "array([ 44,  86,   3,  13,   0,   0,  26,   0,   4,  92,  61,  21,  84,\n",
       "         3, 311, 145,   1,   0,   6, 116,  31,   0,   0])"
      ]
     },
     "execution_count": 39,
     "metadata": {},
     "output_type": "execute_result"
    }
   ],
   "source": [
    "sum(matrix_mul1)"
   ]
  },
  {
   "cell_type": "code",
   "execution_count": 40,
   "id": "33f00e26",
   "metadata": {},
   "outputs": [
    {
     "data": {
      "text/plain": [
       "array([  7,  65,   0,   3,   0,   0,  12,   0,  13,  94,  59,  10,  75,\n",
       "         1, 287, 101,   0,   0,   0, 103,  19,   0,   0])"
      ]
     },
     "execution_count": 40,
     "metadata": {},
     "output_type": "execute_result"
    }
   ],
   "source": [
    "sum(matrix_rob1)"
   ]
  },
  {
   "cell_type": "code",
   "execution_count": 41,
   "id": "c3676ad2",
   "metadata": {},
   "outputs": [
    {
     "data": {
      "text/plain": [
       "array([ 0,  3,  0,  0,  0, 13,  1,  0,  0,  0,  0,  0])"
      ]
     },
     "execution_count": 41,
     "metadata": {},
     "output_type": "execute_result"
    }
   ],
   "source": [
    "sum(matrix_rob1>0)[id_fews]"
   ]
  },
  {
   "cell_type": "code",
   "execution_count": 42,
   "id": "bb291ac8",
   "metadata": {},
   "outputs": [
    {
     "data": {
      "text/plain": [
       "array([ 3, 13,  0,  0,  0,  4,  3,  1,  0,  6,  0,  0])"
      ]
     },
     "execution_count": 42,
     "metadata": {},
     "output_type": "execute_result"
    }
   ],
   "source": [
    "sum(matrix_mul1>0)[id_fews]"
   ]
  },
  {
   "cell_type": "code",
   "execution_count": 43,
   "id": "cf6ecedd",
   "metadata": {},
   "outputs": [],
   "source": [
    "matrix_com = np.zeros((df_rob.shape[0], len(TASK3_LABELS)),int)\n",
    "for idx in range(0,23):\n",
    "    for j in range(0,matrix_com.shape[0]):\n",
    "        if idx in id_fews:\n",
    "            matrix_com[j,idx] = matrix_mul1[j,idx]\n",
    "        else:\n",
    "            matrix_com[j,idx] = matrix_rob1[j,idx]"
   ]
  },
  {
   "cell_type": "code",
   "execution_count": 44,
   "id": "33e5a6e9",
   "metadata": {},
   "outputs": [
    {
     "data": {
      "text/plain": [
       "array([910, 910, 907, 898, 910, 910, 910, 910, 897, 910, 910, 910, 910,\n",
       "       906, 910, 910, 909, 910, 904, 910, 910, 910, 910])"
      ]
     },
     "execution_count": 44,
     "metadata": {},
     "output_type": "execute_result"
    }
   ],
   "source": [
    "sum(matrix_com == matrix_rob1)"
   ]
  },
  {
   "cell_type": "code",
   "execution_count": 45,
   "id": "69217dda",
   "metadata": {},
   "outputs": [
    {
     "data": {
      "text/plain": [
       "array([867, 835, 910, 910, 910, 910, 880, 910, 910, 804, 854, 887, 881,\n",
       "       910, 758, 820, 910, 910, 910, 765, 886, 910, 910])"
      ]
     },
     "execution_count": 45,
     "metadata": {},
     "output_type": "execute_result"
    }
   ],
   "source": [
    "sum(matrix_com == matrix_mul1)"
   ]
  },
  {
   "cell_type": "code",
   "execution_count": 46,
   "id": "6f2f770f",
   "metadata": {},
   "outputs": [],
   "source": [
    "pred_com=pd.Series(list(matrix_com))\n",
    "series_labels=pred_com.apply(lambda x: [id2label[i] for i in np.where(x==1)[0]])\n",
    "df_rob['labels_pred']=series_labels.apply(lambda x: ','.join(x))\n",
    "output_pred_file= 'Test_task3_en.txt'\n",
    "        \n",
    "df_rob[['id','line','labels_pred']].to_csv(output_pred_file, sep='\\t', header=None, index=None)"
   ]
  },
  {
   "cell_type": "code",
   "execution_count": null,
   "id": "21d88cb2",
   "metadata": {},
   "outputs": [],
   "source": []
  },
  {
   "cell_type": "code",
   "execution_count": null,
   "id": "4c55eecb",
   "metadata": {},
   "outputs": [],
   "source": []
  },
  {
   "cell_type": "code",
   "execution_count": null,
   "id": "dd36fb00",
   "metadata": {},
   "outputs": [],
   "source": [
    "# tjek the new\n",
    "df_com = pd.read_csv(output_pred_file, sep='\\t', header=None, names=['id','line','labels'])\n",
    "matrix_com1 = to_matrix(df_com)\n",
    "sum(matrix_com1)"
   ]
  }
 ],
 "metadata": {
  "kernelspec": {
   "display_name": "Python 3 (ipykernel)",
   "language": "python",
   "name": "python3"
  },
  "language_info": {
   "codemirror_mode": {
    "name": "ipython",
    "version": 3
   },
   "file_extension": ".py",
   "mimetype": "text/x-python",
   "name": "python",
   "nbconvert_exporter": "python",
   "pygments_lexer": "ipython3",
   "version": "3.8.13"
  }
 },
 "nbformat": 4,
 "nbformat_minor": 5
}
