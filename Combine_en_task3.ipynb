{
 "cells": [
  {
   "cell_type": "code",
   "execution_count": 15,
   "id": "abab6f97",
   "metadata": {},
   "outputs": [],
   "source": [
    "import pandas as pd\n",
    "import numpy as np\n",
    "from data import TASK3_LABELS"
   ]
  },
  {
   "cell_type": "code",
   "execution_count": 18,
   "id": "d5bda498",
   "metadata": {},
   "outputs": [],
   "source": [
    "import os\n",
    "li=os.listdir('data_folder')"
   ]
  },
  {
   "cell_type": "code",
   "execution_count": 19,
   "id": "f423e4e2",
   "metadata": {},
   "outputs": [
    {
     "data": {
      "text/plain": [
       "['hjbaselines',\n",
       " 'hjdata',\n",
       " 'hjdata.zip',\n",
       " 'hjreadme',\n",
       " 'hjrequirements.txt',\n",
       " 'hjscorers',\n",
       " 'hjsemeval2023task3bundle-v2(1).tar',\n",
       " 'hjsemeval2023task3bundle-v2(1).tgz']"
      ]
     },
     "execution_count": 19,
     "metadata": {},
     "output_type": "execute_result"
    }
   ],
   "source": [
    "['hj' + l for l in li]"
   ]
  },
  {
   "cell_type": "code",
   "execution_count": 23,
   "id": "8c3b8c24",
   "metadata": {},
   "outputs": [
    {
     "data": {
      "text/plain": [
       "'hj\\\\hj'"
      ]
     },
     "execution_count": 23,
     "metadata": {},
     "output_type": "execute_result"
    }
   ],
   "source": [
    "os.path.join('hj', 'hj')"
   ]
  },
  {
   "cell_type": "code",
   "execution_count": 2,
   "id": "4d34e46a",
   "metadata": {},
   "outputs": [
    {
     "data": {
      "text/plain": [
       "['Appeal_to_Authority',\n",
       " 'Appeal_to_Fear-Prejudice',\n",
       " 'Appeal_to_Hypocrisy',\n",
       " 'Appeal_to_Popularity',\n",
       " 'Appeal_to_Time',\n",
       " 'Appeal_to_Values',\n",
       " 'Causal_Oversimplification',\n",
       " 'Consequential_Oversimplification',\n",
       " 'Conversation_Killer',\n",
       " 'Doubt',\n",
       " 'Exaggeration-Minimisation',\n",
       " 'False_Dilemma-No_Choice',\n",
       " 'Flag_Waving',\n",
       " 'Guilt_by_Association',\n",
       " 'Loaded_Language',\n",
       " 'Name_Calling-Labeling',\n",
       " 'Obfuscation-Vagueness-Confusion',\n",
       " 'Questioning_the_Reputation',\n",
       " 'Red_Herring',\n",
       " 'Repetition',\n",
       " 'Slogans',\n",
       " 'Straw_Man',\n",
       " 'Whataboutism']"
      ]
     },
     "execution_count": 2,
     "metadata": {},
     "output_type": "execute_result"
    }
   ],
   "source": [
    "TASK3_LABELS"
   ]
  },
  {
   "cell_type": "code",
   "execution_count": 3,
   "id": "8c58268b",
   "metadata": {},
   "outputs": [],
   "source": [
    "def to_matrix(df3):    \n",
    "    df3 = df3.where(pd.notnull(df3), '')\n",
    "    labels_matrix = np.zeros((df3.shape[0], len(TASK3_LABELS)),int)\n",
    "    \n",
    "    for idx, label in enumerate(TASK3_LABELS):\n",
    "        labels_matrix[:, idx] = df3.labels.apply(lambda x: 1 if label in x else 0)\n",
    "    return labels_matrix"
   ]
  },
  {
   "cell_type": "code",
   "execution_count": 4,
   "id": "97dedffb",
   "metadata": {},
   "outputs": [
    {
     "data": {
      "text/plain": [
       "array(['Appeal_to_Hypocrisy', 'Appeal_to_Popularity', 'Appeal_to_Time',\n",
       "       'Appeal_to_Values', 'Consequential_Oversimplification',\n",
       "       'Conversation_Killer', 'Guilt_by_Association',\n",
       "       'Obfuscation-Vagueness-Confusion', 'Questioning_the_Reputation',\n",
       "       'Red_Herring', 'Straw_Man', 'Whataboutism'], dtype='<U32')"
      ]
     },
     "execution_count": 4,
     "metadata": {},
     "output_type": "execute_result"
    }
   ],
   "source": [
    "# removed false dillema training sze with dev is 185, under 150:\n",
    "id_fews = [2,3,4,5,7,8,13,16,17,18,21,22]\n",
    "id2label = {idx:label for idx, label in enumerate(TASK3_LABELS)}\n",
    "np.array(TASK3_LABELS)[id_fews]"
   ]
  },
  {
   "cell_type": "code",
   "execution_count": 5,
   "id": "8db3988d",
   "metadata": {},
   "outputs": [],
   "source": [
    "df_mul = pd.read_csv('Test_1en_task3_en.txt', sep='\\t', header=None, names=['id','line','labels'])\n",
    "#df_anchor = pd.read_csv('anchor_small_task3_en.txt', sep='\\t', header=None, names=['id','line','labels']) #majority_pred_en.csv\n",
    "df_rob = pd.read_csv('Test_task3_en_rob.txt', sep='\\t', header=None, names=['id','line','labels'])\n",
    "#df_anchor_s = pd.read_csv('majority_pred_en.csv', sep='\\t', header=None, names=['id','line','labels'])\n",
    "matrix_mul1 = to_matrix(df_mul)\n",
    "matrix_rob1 = to_matrix(df_rob)"
   ]
  },
  {
   "cell_type": "code",
   "execution_count": 26,
   "id": "1591a89f",
   "metadata": {},
   "outputs": [
    {
     "data": {
      "text/plain": [
       "id         3116\n",
       "line          1\n",
       "labels    Doubt\n",
       "Name: 0, dtype: object"
      ]
     },
     "execution_count": 26,
     "metadata": {},
     "output_type": "execute_result"
    }
   ],
   "source": [
    "df_mul.iloc[0]"
   ]
  },
  {
   "cell_type": "code",
   "execution_count": 6,
   "id": "cc31c865",
   "metadata": {},
   "outputs": [
    {
     "data": {
      "text/plain": [
       "array([ 47,  83,   2,  15,   0,   0,  14,   0,   9,  94,  62,  19,  85,\n",
       "         3, 307, 128,   4,   1,   2, 123,  26,   0,   0])"
      ]
     },
     "execution_count": 6,
     "metadata": {},
     "output_type": "execute_result"
    }
   ],
   "source": [
    "sum(matrix_mul1)"
   ]
  },
  {
   "cell_type": "code",
   "execution_count": 7,
   "id": "33f00e26",
   "metadata": {},
   "outputs": [
    {
     "data": {
      "text/plain": [
       "array([  7,  65,   0,   3,   0,   0,  12,   0,  13,  94,  59,  10,  75,\n",
       "         1, 287, 101,   0,   0,   0, 103,  19,   0,   0])"
      ]
     },
     "execution_count": 7,
     "metadata": {},
     "output_type": "execute_result"
    }
   ],
   "source": [
    "sum(matrix_rob1)"
   ]
  },
  {
   "cell_type": "code",
   "execution_count": 8,
   "id": "c3676ad2",
   "metadata": {},
   "outputs": [
    {
     "data": {
      "text/plain": [
       "array([ 0,  3,  0,  0,  0, 13,  1,  0,  0,  0,  0,  0])"
      ]
     },
     "execution_count": 8,
     "metadata": {},
     "output_type": "execute_result"
    }
   ],
   "source": [
    "sum(matrix_rob1>0)[id_fews]"
   ]
  },
  {
   "cell_type": "code",
   "execution_count": 9,
   "id": "bb291ac8",
   "metadata": {},
   "outputs": [
    {
     "data": {
      "text/plain": [
       "array([ 2, 15,  0,  0,  0,  9,  3,  4,  1,  2,  0,  0])"
      ]
     },
     "execution_count": 9,
     "metadata": {},
     "output_type": "execute_result"
    }
   ],
   "source": [
    "sum(matrix_mul1>0)[id_fews]"
   ]
  },
  {
   "cell_type": "code",
   "execution_count": 10,
   "id": "cf6ecedd",
   "metadata": {},
   "outputs": [],
   "source": [
    "matrix_com = np.zeros((df_rob.shape[0], len(TASK3_LABELS)),int)\n",
    "for idx in range(0,23):\n",
    "    for j in range(0,matrix_com.shape[0]):\n",
    "        if idx in id_fews:\n",
    "            matrix_com[j,idx] = matrix_mul1[j,idx]\n",
    "        else:\n",
    "            matrix_com[j,idx] = matrix_rob1[j,idx]"
   ]
  },
  {
   "cell_type": "code",
   "execution_count": 11,
   "id": "33e5a6e9",
   "metadata": {},
   "outputs": [
    {
     "data": {
      "text/plain": [
       "array([910, 910, 908, 898, 910, 910, 910, 910, 898, 910, 910, 910, 910,\n",
       "       906, 910, 910, 906, 909, 908, 910, 910, 910, 910])"
      ]
     },
     "execution_count": 11,
     "metadata": {},
     "output_type": "execute_result"
    }
   ],
   "source": [
    "sum(matrix_com == matrix_rob1)"
   ]
  },
  {
   "cell_type": "code",
   "execution_count": 12,
   "id": "69217dda",
   "metadata": {},
   "outputs": [
    {
     "data": {
      "text/plain": [
       "array([868, 834, 910, 910, 910, 910, 892, 910, 910, 806, 853, 889, 876,\n",
       "       910, 758, 823, 910, 910, 910, 768, 891, 910, 910])"
      ]
     },
     "execution_count": 12,
     "metadata": {},
     "output_type": "execute_result"
    }
   ],
   "source": [
    "sum(matrix_com == matrix_mul1)"
   ]
  },
  {
   "cell_type": "code",
   "execution_count": 13,
   "id": "6f2f770f",
   "metadata": {},
   "outputs": [],
   "source": [
    "pred_com=pd.Series(list(matrix_com))\n",
    "series_labels=pred_com.apply(lambda x: [id2label[i] for i in np.where(x==1)[0]])\n",
    "df_rob['labels_pred']=series_labels.apply(lambda x: ','.join(x))\n",
    "output_pred_file= 'Test_task3_en.txt'\n",
    "        \n",
    "df_rob[['id','line','labels_pred']].to_csv(output_pred_file, sep='\\t', header=None, index=None)"
   ]
  },
  {
   "cell_type": "code",
   "execution_count": null,
   "id": "21d88cb2",
   "metadata": {},
   "outputs": [],
   "source": []
  },
  {
   "cell_type": "code",
   "execution_count": null,
   "id": "4c55eecb",
   "metadata": {},
   "outputs": [],
   "source": []
  },
  {
   "cell_type": "code",
   "execution_count": 14,
   "id": "dd36fb00",
   "metadata": {},
   "outputs": [
    {
     "data": {
      "text/plain": [
       "array([  7,  65,   2,  15,   0,   0,  12,   0,   9,  94,  59,  10,  75,\n",
       "         3, 287, 101,   4,   1,   2, 103,  19,   0,   0])"
      ]
     },
     "execution_count": 14,
     "metadata": {},
     "output_type": "execute_result"
    }
   ],
   "source": [
    "# tjek the new\n",
    "df_com = pd.read_csv(output_pred_file, sep='\\t', header=None, names=['id','line','labels'])\n",
    "matrix_com1 = to_matrix(df_com)\n",
    "sum(matrix_com1)"
   ]
  },
  {
   "cell_type": "code",
   "execution_count": null,
   "id": "39286ff6",
   "metadata": {},
   "outputs": [],
   "source": []
  }
 ],
 "metadata": {
  "kernelspec": {
   "display_name": "Python 3 (ipykernel)",
   "language": "python",
   "name": "python3"
  },
  "language_info": {
   "codemirror_mode": {
    "name": "ipython",
    "version": 3
   },
   "file_extension": ".py",
   "mimetype": "text/x-python",
   "name": "python",
   "nbconvert_exporter": "python",
   "pygments_lexer": "ipython3",
   "version": "3.8.13"
  }
 },
 "nbformat": 4,
 "nbformat_minor": 5
}
